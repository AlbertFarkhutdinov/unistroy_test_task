{
 "cells": [
  {
   "cell_type": "code",
   "execution_count": null,
   "id": "5ad1549d",
   "metadata": {
    "ExecuteTime": {
     "end_time": "2021-10-25T12:44:09.790397Z",
     "start_time": "2021-10-25T12:44:09.146132Z"
    }
   },
   "outputs": [],
   "source": [
    "from bs4 import BeautifulSoup\n",
    "import mechanize\n",
    "import pandas as pd\n",
    "import requests"
   ]
  },
  {
   "cell_type": "code",
   "execution_count": null,
   "id": "2c143708",
   "metadata": {
    "ExecuteTime": {
     "end_time": "2021-10-25T12:44:09.813337Z",
     "start_time": "2021-10-25T12:44:09.793390Z"
    }
   },
   "outputs": [],
   "source": [
    "dataframe = pd.read_csv('inn.csv')\n",
    "dataframe['is_valid'] = dataframe.tin.astype(str).str.len() == 10\n",
    "dataframe"
   ]
  },
  {
   "cell_type": "code",
   "execution_count": null,
   "id": "883b4251",
   "metadata": {
    "ExecuteTime": {
     "end_time": "2021-10-25T12:44:33.052625Z",
     "start_time": "2021-10-25T12:44:09.815331Z"
    }
   },
   "outputs": [],
   "source": [
    "dataframe['name'] = ''\n",
    "dataframe['psrn'] = -1\n",
    "dataframe['psrn_date'] = ''\n",
    "dataframe['registration_reason_code'] = -1\n",
    "dataframe['registration_date'] = ''\n",
    "dataframe['authorized_capital'] = -1\n",
    "\n",
    "for i, tin in enumerate(dataframe['tin'].values):\n",
    "    if not dataframe.loc[i, 'is_valid']:\n",
    "        continue\n",
    "    br = mechanize.Browser()\n",
    "    br.open(r'https://www.rusprofile.ru/')\n",
    "    for form in br.forms():\n",
    "        try:\n",
    "            query = form.find_control('query')\n",
    "        except:\n",
    "            print(form)\n",
    "            br.close()\n",
    "            break\n",
    "        form.set_value(str(tin), name='query')\n",
    "        request = form.click(type='submitbutton')\n",
    "        responce = br.open(request)\n",
    "        url = responce.geturl()\n",
    "    else:\n",
    "        soup = BeautifulSoup(requests.get(url).text, 'html')\n",
    "        dataframe.loc[i, 'name'] = soup.find('h1').text.strip()\n",
    "        requisites = [item for item in soup.find('div', {'class': 'company-requisites'}).text.split('\\n') if item]\n",
    "        for j, item in enumerate(requisites):\n",
    "            if item == 'ОГРН':\n",
    "                dataframe.loc[i, 'psrn'] = int(requisites[j + 1])\n",
    "                dataframe.loc[i, 'psrn_date'] = requisites[j + 2]\n",
    "            if item == 'ИНН/КПП':\n",
    "                dataframe.loc[i, 'registration_reason_code'] = int(requisites[j + 2])\n",
    "            if item == 'Дата регистрации':\n",
    "                dataframe.loc[i, 'registration_date'] = requisites[j + 1]\n",
    "            if item == 'Уставный капитал':\n",
    "                _capital = ''.join(requisites[j + 1].split()[:-1])\n",
    "                _capital = '.'.join(_capital.split(','))\n",
    "                dataframe.loc[i, 'authorized_capital'] = float(_capital)\n",
    "\n",
    "dataframe"
   ]
  }
 ],
 "metadata": {
  "hide_input": false,
  "kernelspec": {
   "display_name": "Python 3 (ipykernel)",
   "language": "python",
   "name": "python3"
  },
  "language_info": {
   "codemirror_mode": {
    "name": "ipython",
    "version": 3
   },
   "file_extension": ".py",
   "mimetype": "text/x-python",
   "name": "python",
   "nbconvert_exporter": "python",
   "pygments_lexer": "ipython3",
   "version": "3.9.5"
  },
  "toc": {
   "base_numbering": 1,
   "nav_menu": {},
   "number_sections": false,
   "sideBar": true,
   "skip_h1_title": true,
   "title_cell": "Table of Contents",
   "title_sidebar": "Contents",
   "toc_cell": false,
   "toc_position": {},
   "toc_section_display": true,
   "toc_window_display": false
  },
  "varInspector": {
   "cols": {
    "lenName": 16,
    "lenType": 16,
    "lenVar": 40
   },
   "kernels_config": {
    "python": {
     "delete_cmd_postfix": "",
     "delete_cmd_prefix": "del ",
     "library": "var_list.py",
     "varRefreshCmd": "print(var_dic_list())"
    },
    "r": {
     "delete_cmd_postfix": ") ",
     "delete_cmd_prefix": "rm(",
     "library": "var_list.r",
     "varRefreshCmd": "cat(var_dic_list()) "
    }
   },
   "types_to_exclude": [
    "module",
    "function",
    "builtin_function_or_method",
    "instance",
    "_Feature"
   ],
   "window_display": false
  }
 },
 "nbformat": 4,
 "nbformat_minor": 5
}
