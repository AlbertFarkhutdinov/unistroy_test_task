{
 "cells": [
  {
   "cell_type": "markdown",
   "id": "72e18a20",
   "metadata": {},
   "source": [
    "# Задача 2\n",
    "\n",
    "#### Проанализировать код, описать принцип работы"
   ]
  },
  {
   "cell_type": "code",
   "execution_count": null,
   "id": "cae6283f",
   "metadata": {
    "ExecuteTime": {
     "start_time": "2021-10-23T09:34:28.799Z"
    }
   },
   "outputs": [],
   "source": [
    "# Пользователь вводит число рядов в матрице чисел. \n",
    "# input выводит на экран строку 'Rows: ' и возращает строку-ответ пользователя, \n",
    "# которая преобразовывается в целое число с помощью функции int.\n",
    "rows = int(input('Rows: '))\n",
    "# Аналогично, но теперь для числа столбцов в матрице.\n",
    "cols = int(input('Columns: '))\n",
    "# Пользователь вводит по очереди все элементы матрицы. Сначала все элементы первой строки, затем второй и т.д.\n",
    "# Они сохраняются в матрицу arr, представляющей собой список. \n",
    "# Элементы списка соответствует рядам матрицы и сами являются списками, элементы которой - числа в конкретных столбцах.\n",
    "arr = [[int(input()) for i in range(cols)] for j in range(rows)]\n",
    "\n",
    "# По очереди печатаем каждый ряд матрицы\n",
    "for row in arr:\n",
    "    print(row)\n",
    "\n",
    "# Считаем ряды, не содержащие нули. \n",
    "# Создаём список, в который помещаем все ряды матрицы, в которых нет нуля. \n",
    "# Затем вычисляем длину этого списка\n",
    "# Следует отметить, что в строке ниже ошибка. Следует написать 'without' вместо 'with'\n",
    "print('Count rows with zeros: ')\n",
    "print(len([i for i in arr if 0 not in i]))\n",
    "\n",
    "# Пользователь вводит номер строки, в которой хочет найти максимальный элемент\n",
    "n = int(input('Maximum search row: '))\n",
    "# Вывод на экран максимального элемента строки, выбранной пользователем.\n",
    "print(f'Max in {n} row: {max(arr[n])}')"
   ]
  },
  {
   "cell_type": "markdown",
   "id": "fcf3135f",
   "metadata": {},
   "source": [
    "### Предложения по улучшению\n",
    "\n",
    " - Недостаток данного кода в том, что если пользователь по какой-то причине введёт не положительное целое число, то это вызовет ValueError. Поэтому можно вместо int(input()) использовать функцию get_int_number, представленную ниже. Данная функция принимает в качестве аргумента строку - приглашение к вводу, и просит пользователя ввести целое положительное число до тех пор, пока он его не введёт.\n",
    " - Следует исправить ошибку в print('Count rows with zeros: ');\n",
    " - Для пользователя будет удобнее нумерация, начиная с 1, а не с 0. Это нужно учесть в последней строке.\n",
    " - Для работы с матрицами чисел можно использовать библиотеку NumPy. Она эффективнее работает с памятью, содержит множество векторных функций, облегчающих работу."
   ]
  },
  {
   "cell_type": "code",
   "execution_count": null,
   "id": "c9f87c45",
   "metadata": {
    "ExecuteTime": {
     "end_time": "2021-10-23T09:39:14.873782Z",
     "start_time": "2021-10-23T09:39:14.869822Z"
    }
   },
   "outputs": [],
   "source": [
    "import numpy as np"
   ]
  },
  {
   "cell_type": "code",
   "execution_count": null,
   "id": "a7774df4",
   "metadata": {
    "ExecuteTime": {
     "end_time": "2021-10-23T09:37:21.619802Z",
     "start_time": "2021-10-23T09:37:21.615813Z"
    }
   },
   "outputs": [],
   "source": [
    "def get_int_number(question, minimum=0, maximum=float('inf')):\n",
    "    int_number = ''\n",
    "    is_integer = False\n",
    "    while not is_integer:\n",
    "        int_number = input(f'{question}\\n')\n",
    "        if not int_number.isdigit():\n",
    "            print('Input error. Your number is not positive integer.')\n",
    "            continue\n",
    "            \n",
    "        int_number = int(int_number)\n",
    "        if not minimum <= int_number <= maximum:\n",
    "            print(f'Input error. Your number is out of range [{minimum}; {maximum}].')\n",
    "            continue\n",
    "        is_integer = True\n",
    "            \n",
    "    return int_number"
   ]
  },
  {
   "cell_type": "code",
   "execution_count": null,
   "id": "affe2349",
   "metadata": {
    "ExecuteTime": {
     "start_time": "2021-10-23T09:38:32.861Z"
    }
   },
   "outputs": [],
   "source": [
    "rows = get_int_number('Rows:', minimum=1)\n",
    "cols = get_int_number('Columns:', minimum=1)\n",
    "arr = np.zeros((rows, cols), dtype=int)\n",
    "for i in range(rows):\n",
    "    for j in range(cols):\n",
    "        arr[i][j] = get_int_number(f'Input number in row {i + 1} and column {j + 1}: ')\n",
    "\n",
    "for row in arr:\n",
    "    print(row)\n",
    "\n",
    "print('Count rows without zeros: ')\n",
    "# Посчитали число ненулевых элементов в каждом ряду и сравнили с числом столбцов. Получили массив из булевых значений.\n",
    "# Поскольку True = 1, False = 0, то сумма всех элементов массива даст число строк без нулевых элементов.\n",
    "print((np.count_nonzero(arr, axis=1) == cols).sum())\n",
    "\n",
    "n = get_int_number('Maximum search row:', minimum=1, maximum=rows)\n",
    "print(f'Max in {n} row: {arr[n - 1].max()}')"
   ]
  }
 ],
 "metadata": {
  "hide_input": false,
  "kernelspec": {
   "display_name": "Python 3 (ipykernel)",
   "language": "python",
   "name": "python3"
  },
  "language_info": {
   "codemirror_mode": {
    "name": "ipython",
    "version": 3
   },
   "file_extension": ".py",
   "mimetype": "text/x-python",
   "name": "python",
   "nbconvert_exporter": "python",
   "pygments_lexer": "ipython3",
   "version": "3.9.5"
  },
  "toc": {
   "base_numbering": 1,
   "nav_menu": {},
   "number_sections": false,
   "sideBar": true,
   "skip_h1_title": true,
   "title_cell": "Table of Contents",
   "title_sidebar": "Contents",
   "toc_cell": false,
   "toc_position": {},
   "toc_section_display": true,
   "toc_window_display": false
  },
  "varInspector": {
   "cols": {
    "lenName": 16,
    "lenType": 16,
    "lenVar": 40
   },
   "kernels_config": {
    "python": {
     "delete_cmd_postfix": "",
     "delete_cmd_prefix": "del ",
     "library": "var_list.py",
     "varRefreshCmd": "print(var_dic_list())"
    },
    "r": {
     "delete_cmd_postfix": ") ",
     "delete_cmd_prefix": "rm(",
     "library": "var_list.r",
     "varRefreshCmd": "cat(var_dic_list()) "
    }
   },
   "types_to_exclude": [
    "module",
    "function",
    "builtin_function_or_method",
    "instance",
    "_Feature"
   ],
   "window_display": false
  }
 },
 "nbformat": 4,
 "nbformat_minor": 5
}
